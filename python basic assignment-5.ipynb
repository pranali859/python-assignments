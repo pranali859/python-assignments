{
 "cells": [
  {
   "cell_type": "markdown",
   "id": "57d4ad74",
   "metadata": {},
   "source": [
    "1. What does an empty dictionary's code look like?"
   ]
  },
  {
   "cell_type": "markdown",
   "id": "76062bc5",
   "metadata": {},
   "source": [
    "--> The empty dictionary's code looks like, dictionary={}."
   ]
  },
  {
   "cell_type": "markdown",
   "id": "b34de4ad",
   "metadata": {},
   "source": [
    "2. What is the value of a dictionary value with the key 'foo' and the value 42?"
   ]
  },
  {
   "cell_type": "markdown",
   "id": "36a5544f",
   "metadata": {},
   "source": [
    "-->dict={'foo':42}"
   ]
  },
  {
   "cell_type": "markdown",
   "id": "1f81f7c2",
   "metadata": {},
   "source": [
    "3. What is the most significant distinction between a dictionary and a list?"
   ]
  },
  {
   "cell_type": "markdown",
   "id": "d56736a5",
   "metadata": {},
   "source": [
    "--> Dictionaries have key and value pairs whereas a list has only values."
   ]
  },
  {
   "cell_type": "markdown",
   "id": "ddb2edcc",
   "metadata": {},
   "source": [
    "4. What happens if you try to access spam['foo'] if spam is {'bar': 100}?"
   ]
  },
  {
   "cell_type": "markdown",
   "id": "1d131671",
   "metadata": {},
   "source": [
    "-->Error will occur."
   ]
  },
  {
   "cell_type": "markdown",
   "id": "90372b39",
   "metadata": {},
   "source": [
    "5. If a dictionary is stored in spam, what is the difference between the expressions 'cat' in spam and\n",
    "'cat' in spam.keys()?"
   ]
  },
  {
   "cell_type": "markdown",
   "id": "b1500e5b",
   "metadata": {},
   "source": [
    "--> There is no difference between both the expressions as they are used to search if 'cat' is a key in that dictionary."
   ]
  },
  {
   "cell_type": "markdown",
   "id": "d9c0eba5",
   "metadata": {},
   "source": [
    "6. If a dictionary is stored in spam, what is the difference between the expressions 'cat' in spam and\n",
    "'cat' in spam.values()?"
   ]
  },
  {
   "cell_type": "markdown",
   "id": "280438ef",
   "metadata": {},
   "source": [
    "-->The 'cat' in spam expression will check if there is a key  'cat'. The 'cat' in spam.values() expression will check if there is a value 'cat' for any key in the spam dictionary."
   ]
  },
  {
   "cell_type": "markdown",
   "id": "4cb9a5ce",
   "metadata": {},
   "source": [
    "7. What is a shortcut for the following code?\n",
    "if 'color' not in spam:\n",
    "spam['color'] = 'black'"
   ]
  },
  {
   "cell_type": "markdown",
   "id": "15c01a3f",
   "metadata": {},
   "source": [
    "-->spam.setdefault('color', 'black')"
   ]
  },
  {
   "cell_type": "markdown",
   "id": "09a2cfae",
   "metadata": {},
   "source": [
    "8. How do you \"pretty print\" dictionary values using which module and function?"
   ]
  },
  {
   "cell_type": "markdown",
   "id": "298905f1",
   "metadata": {},
   "source": [
    "--> The Module used to pretty print dictionary values is pprint, and the function is pprint().\n",
    "so to print pretty print values following code is used.\n",
    "pprint.pprint()"
   ]
  }
 ],
 "metadata": {
  "kernelspec": {
   "display_name": "Python 3 (ipykernel)",
   "language": "python",
   "name": "python3"
  },
  "language_info": {
   "codemirror_mode": {
    "name": "ipython",
    "version": 3
   },
   "file_extension": ".py",
   "mimetype": "text/x-python",
   "name": "python",
   "nbconvert_exporter": "python",
   "pygments_lexer": "ipython3",
   "version": "3.9.7"
  }
 },
 "nbformat": 4,
 "nbformat_minor": 5
}
