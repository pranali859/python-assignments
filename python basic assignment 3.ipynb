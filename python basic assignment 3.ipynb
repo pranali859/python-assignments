{
 "cells": [
  {
   "cell_type": "markdown",
   "id": "648615bb",
   "metadata": {},
   "source": [
    "1. Why are functions advantageous to have in your programs?"
   ]
  },
  {
   "cell_type": "markdown",
   "id": "d8afa988",
   "metadata": {},
   "source": [
    "--> Functions reduces the need to repeat the code,makes program shorter and functions are easily accessible."
   ]
  },
  {
   "cell_type": "markdown",
   "id": "6904462b",
   "metadata": {},
   "source": [
    "2.When does the code in a function run: when it's specified or when it's called?"
   ]
  },
  {
   "cell_type": "markdown",
   "id": "5ae3f25e",
   "metadata": {},
   "source": [
    "-->The code in a function runs when it is called."
   ]
  },
  {
   "cell_type": "markdown",
   "id": "1d7de36c",
   "metadata": {},
   "source": [
    "3. What statement creates a function?"
   ]
  },
  {
   "cell_type": "markdown",
   "id": "19b1aa85",
   "metadata": {},
   "source": [
    "-->Function is created by using 'def' keyword, followed by function name with open parenthesis and parameters."
   ]
  },
  {
   "cell_type": "markdown",
   "id": "445fc6e4",
   "metadata": {},
   "source": [
    "4. What is the difference between a function and a function call?"
   ]
  },
  {
   "cell_type": "markdown",
   "id": "db7433c6",
   "metadata": {},
   "source": [
    "--> A function is a block of code written to perform a specified task, whereas a function call is a code used to pass control to the function which is called."
   ]
  },
  {
   "cell_type": "markdown",
   "id": "773b23a1",
   "metadata": {},
   "source": [
    "5. How many global scopes are there in a Python program? How many local scopes?"
   ]
  },
  {
   "cell_type": "markdown",
   "id": "18ebef28",
   "metadata": {},
   "source": [
    "-->There is only one global scope and many local scopes in python."
   ]
  },
  {
   "cell_type": "markdown",
   "id": "7d3a8a3a",
   "metadata": {},
   "source": [
    "6. What happens to variables in a local scope when the function call returns?"
   ]
  },
  {
   "cell_type": "markdown",
   "id": "011d6f36",
   "metadata": {},
   "source": [
    "-->The variables in a local scope terminate after a function call returns."
   ]
  },
  {
   "cell_type": "markdown",
   "id": "868c8b7b",
   "metadata": {},
   "source": [
    "7.What is the concept of a return value? Is it possible to have a return value in an expression?"
   ]
  },
  {
   "cell_type": "markdown",
   "id": "0ebeff2c",
   "metadata": {},
   "source": [
    "--> A return is a value which is called to give result after a function is called. Yes it is possible."
   ]
  },
  {
   "cell_type": "markdown",
   "id": "3e82f519",
   "metadata": {},
   "source": [
    "8.If a function does not have a return statement, what is the return value of a call to that function?"
   ]
  },
  {
   "cell_type": "markdown",
   "id": "e9ef8b3d",
   "metadata": {},
   "source": [
    "-->If no expression is provided with the return statement, then the None value is returned."
   ]
  },
  {
   "cell_type": "markdown",
   "id": "39ad9b9b",
   "metadata": {},
   "source": [
    "9. How do you make a function variable refer to the global variable?"
   ]
  },
  {
   "cell_type": "markdown",
   "id": "cc84413e",
   "metadata": {},
   "source": [
    "-->If you want to refer a function variable to a global variable, you can use the global keyword to declare which variables are global."
   ]
  },
  {
   "cell_type": "markdown",
   "id": "4940a3b7",
   "metadata": {},
   "source": [
    "10. What is the data type of None?"
   ]
  },
  {
   "cell_type": "markdown",
   "id": "629ed4a2",
   "metadata": {},
   "source": [
    "--> The data type of None is NoneType."
   ]
  },
  {
   "cell_type": "markdown",
   "id": "d9f08c5a",
   "metadata": {},
   "source": [
    "11. What does the sentence import areallyourpetsnamederic do?"
   ]
  },
  {
   "cell_type": "markdown",
   "id": "2c31c2c4",
   "metadata": {},
   "source": [
    "-->It imports a module named areallyourpetsnamederic."
   ]
  },
  {
   "cell_type": "markdown",
   "id": "f0efcaad",
   "metadata": {},
   "source": [
    "12. If you had a bacon() feature in a spam module, what would you call it after importing spam?"
   ]
  },
  {
   "cell_type": "markdown",
   "id": "14f35e62",
   "metadata": {},
   "source": [
    "--> To call bacon(), the call would be spam.bacon()."
   ]
  },
  {
   "cell_type": "markdown",
   "id": "8c459a54",
   "metadata": {},
   "source": [
    "13. What can you do to save a programme from crashing if it encounters an error?"
   ]
  },
  {
   "cell_type": "markdown",
   "id": "9cfafe94",
   "metadata": {},
   "source": [
    "--> To save a program from crashing when it encounters error the program is passed to the error block."
   ]
  },
  {
   "cell_type": "markdown",
   "id": "c4fb01ff",
   "metadata": {},
   "source": [
    "14. What is the purpose of the try clause? What is the purpose of the except clause?"
   ]
  },
  {
   "cell_type": "markdown",
   "id": "b9abfca1",
   "metadata": {},
   "source": [
    "--> The try block lets you test the code for an error in the try block, and if an error is occured the code in except block is runned."
   ]
  },
  {
   "cell_type": "code",
   "execution_count": null,
   "id": "01af3c4e",
   "metadata": {},
   "outputs": [],
   "source": []
  }
 ],
 "metadata": {
  "kernelspec": {
   "display_name": "Python 3 (ipykernel)",
   "language": "python",
   "name": "python3"
  },
  "language_info": {
   "codemirror_mode": {
    "name": "ipython",
    "version": 3
   },
   "file_extension": ".py",
   "mimetype": "text/x-python",
   "name": "python",
   "nbconvert_exporter": "python",
   "pygments_lexer": "ipython3",
   "version": "3.9.7"
  }
 },
 "nbformat": 4,
 "nbformat_minor": 5
}
