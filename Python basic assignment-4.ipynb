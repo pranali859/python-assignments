{
 "cells": [
  {
   "cell_type": "markdown",
   "id": "1a90d493",
   "metadata": {},
   "source": [
    "1. What exactly is []?"
   ]
  },
  {
   "cell_type": "markdown",
   "id": "e643763d",
   "metadata": {},
   "source": [
    "--> [] bracket is used to indicate a blank list."
   ]
  },
  {
   "cell_type": "markdown",
   "id": "797a8a5f",
   "metadata": {},
   "source": [
    "2. In a list of values stored in a variable called spam, how would you assign the value &#39;hello&#39; as the\n",
    "third value? (Assume [2, 4, 6, 8, 10] are in spam.)"
   ]
  },
  {
   "cell_type": "code",
   "execution_count": 1,
   "id": "c4763a1c",
   "metadata": {},
   "outputs": [
    {
     "data": {
      "text/plain": [
       "[2, 4, 'hello', 8, 10]"
      ]
     },
     "execution_count": 1,
     "metadata": {},
     "output_type": "execute_result"
    }
   ],
   "source": [
    "spam=[2, 4, 6, 8, 10]\n",
    "spam[2]=\"hello\"\n",
    "spam"
   ]
  },
  {
   "cell_type": "markdown",
   "id": "caa19da5",
   "metadata": {},
   "source": [
    "Let's pretend the spam includes the list ['a','b','c','d'] for the next three queries."
   ]
  },
  {
   "cell_type": "markdown",
   "id": "26094ed8",
   "metadata": {},
   "source": [
    "3. What is the value of spam[int(int('3' * 2) / 11)]?"
   ]
  },
  {
   "cell_type": "code",
   "execution_count": 2,
   "id": "fe5c3d95",
   "metadata": {},
   "outputs": [
    {
     "data": {
      "text/plain": [
       "'d'"
      ]
     },
     "execution_count": 2,
     "metadata": {},
     "output_type": "execute_result"
    }
   ],
   "source": [
    "spam=['a','b','c','d']\n",
    "spam[int(int('3'*2)/11)]"
   ]
  },
  {
   "cell_type": "code",
   "execution_count": 11,
   "id": "601e640f",
   "metadata": {},
   "outputs": [
    {
     "data": {
      "text/plain": [
       "[3.14, 11, 'cat', True]"
      ]
     },
     "execution_count": 11,
     "metadata": {},
     "output_type": "execute_result"
    }
   ],
   "source": [
    "bacon=[3.14, 'cat', 11, 'cat', True]\n",
    "bacon.remove('cat')\n",
    "bacon"
   ]
  },
  {
   "cell_type": "markdown",
   "id": "06e82db8",
   "metadata": {},
   "source": [
    "4. What is the value of spam[-1]?"
   ]
  },
  {
   "cell_type": "markdown",
   "id": "c4959bb7",
   "metadata": {},
   "source": [
    "--> The value of spam[-1] is 'd'."
   ]
  },
  {
   "cell_type": "markdown",
   "id": "9eee5ecf",
   "metadata": {},
   "source": [
    "5. What is the value of spam[:2]?"
   ]
  },
  {
   "cell_type": "markdown",
   "id": "f24f6375",
   "metadata": {},
   "source": [
    "--> The value of spam[:2] is ['a','b']."
   ]
  },
  {
   "cell_type": "markdown",
   "id": "45c5c74b",
   "metadata": {},
   "source": [
    "Let's pretend bacon has the list [3.14, 'cat', 11, 'cat', True] for the next three questions.\n"
   ]
  },
  {
   "cell_type": "markdown",
   "id": "6278d53f",
   "metadata": {},
   "source": [
    "6.What is the value of bacon.index('cat')?"
   ]
  },
  {
   "cell_type": "markdown",
   "id": "20ce791e",
   "metadata": {},
   "source": [
    "--> The value of bacon.index('cat') is 1."
   ]
  },
  {
   "cell_type": "markdown",
   "id": "04b35f78",
   "metadata": {},
   "source": [
    "7. How does bacon.append(99) change the look of the list value in bacon?"
   ]
  },
  {
   "cell_type": "markdown",
   "id": "0bcc34fd",
   "metadata": {},
   "source": [
    "--> The new list will be [3.14, 'cat', 11, 'cat', True,99]"
   ]
  },
  {
   "cell_type": "markdown",
   "id": "ab7d095d",
   "metadata": {},
   "source": [
    "8. How does bacon.remove('cat') change the look of the list in bacon?"
   ]
  },
  {
   "cell_type": "markdown",
   "id": "8b31c699",
   "metadata": {},
   "source": [
    "--> After performing bacon.remove('cat') the new list will be  [3.14, 11, 'cat', True,99]"
   ]
  },
  {
   "cell_type": "markdown",
   "id": "0ed56012",
   "metadata": {},
   "source": [
    "9. What are the list concatenation and list replication operators?"
   ]
  },
  {
   "cell_type": "markdown",
   "id": "c3759053",
   "metadata": {},
   "source": [
    "-->The operator used for concatenation is + , and the operator used for list replication is * . For ex:"
   ]
  },
  {
   "cell_type": "code",
   "execution_count": 44,
   "id": "cee48b8d",
   "metadata": {},
   "outputs": [
    {
     "name": "stdout",
     "output_type": "stream",
     "text": [
      "[1, 2, 3, 4, 'a', 'b', 'c']\n",
      "[1, 2, 3, 4, 1, 2, 3, 4, 1, 2, 3, 4]\n"
     ]
    }
   ],
   "source": [
    "l1=[1,2,3,4]\n",
    "l2=['a','b','c']\n",
    "#concatenation\n",
    "print(l1+l2)\n",
    "#replication\n",
    "print(l1*3)"
   ]
  },
  {
   "cell_type": "markdown",
   "id": "d64b4220",
   "metadata": {},
   "source": [
    "10. What is difference between the list methods append() and insert()?"
   ]
  },
  {
   "cell_type": "markdown",
   "id": "90ac1038",
   "metadata": {},
   "source": [
    "-->  The method append() adds data at the end of the list whereas insert adds data anywhere in the list with the help of index numbers. For ex:"
   ]
  },
  {
   "cell_type": "code",
   "execution_count": 45,
   "id": "80880347",
   "metadata": {},
   "outputs": [
    {
     "name": "stdout",
     "output_type": "stream",
     "text": [
      "[1, 2, 5, 3, 4, 6]\n"
     ]
    }
   ],
   "source": [
    "l1.append(6)\n",
    "l1.insert(2,5)\n",
    "print(l1)"
   ]
  },
  {
   "cell_type": "markdown",
   "id": "bbd2625e",
   "metadata": {},
   "source": [
    "11. What are the two methods for removing items from a list?"
   ]
  },
  {
   "cell_type": "markdown",
   "id": "e23b3504",
   "metadata": {},
   "source": [
    "--> The two methods are clear() and remove(). clear() removes all the items from the list whereas remove() removes a particular item from the list. For ex:"
   ]
  },
  {
   "cell_type": "code",
   "execution_count": 28,
   "id": "12aae06d",
   "metadata": {},
   "outputs": [
    {
     "name": "stdout",
     "output_type": "stream",
     "text": [
      "[] ['a', 'c']\n"
     ]
    }
   ],
   "source": [
    "l1.clear()\n",
    "l2.remove('b')\n",
    "print(l1,l2)"
   ]
  },
  {
   "cell_type": "markdown",
   "id": "740cfdb3",
   "metadata": {},
   "source": [
    "12. Describe how list values and string values are identical."
   ]
  },
  {
   "cell_type": "markdown",
   "id": "fdf8e941",
   "metadata": {},
   "source": [
    "-->List and strings are identical as they both are in sequence and use indexes for parsing through the data."
   ]
  },
  {
   "cell_type": "markdown",
   "id": "6513f94d",
   "metadata": {},
   "source": [
    "13. What's the difference between tuples and lists?"
   ]
  },
  {
   "cell_type": "markdown",
   "id": "ed1857e6",
   "metadata": {},
   "source": [
    "--> Tuples are immutable whereas lists are mutable.Tuples are declared using() and lists are declared using[]."
   ]
  },
  {
   "cell_type": "markdown",
   "id": "f17df4db",
   "metadata": {},
   "source": [
    "14. How do you type a tuple value that only contains the integer 42?"
   ]
  },
  {
   "cell_type": "markdown",
   "id": "659e53ce",
   "metadata": {},
   "source": [
    "--> A tuple containg only single value should be declared with a comma afterwards."
   ]
  },
  {
   "cell_type": "markdown",
   "id": "862bffaa",
   "metadata": {},
   "source": [
    "15. How do you get a list value's tuple form? How do you get a tuple value's list form?"
   ]
  },
  {
   "cell_type": "markdown",
   "id": "470ef2e1",
   "metadata": {},
   "source": [
    "--> By using the list() and tuple() function."
   ]
  },
  {
   "cell_type": "code",
   "execution_count": 39,
   "id": "5a975a2b",
   "metadata": {},
   "outputs": [
    {
     "name": "stdout",
     "output_type": "stream",
     "text": [
      "('qqqwe', 'eee')\n",
      "[1, 2, 3]\n"
     ]
    }
   ],
   "source": [
    "t=(1,2,3)\n",
    "l=['qqqwe','eee']\n",
    "print(tuple(l))\n",
    "print(list(t))"
   ]
  },
  {
   "cell_type": "markdown",
   "id": "bd16bebd",
   "metadata": {},
   "source": [
    "16. Variables that \"contain\" list values are not necessarily lists themselves. Instead, what do they\n",
    "contain?"
   ]
  },
  {
   "cell_type": "markdown",
   "id": "ef0950e2",
   "metadata": {},
   "source": [
    "--> Variables that contain list values have the reference to the values."
   ]
  },
  {
   "cell_type": "markdown",
   "id": "5f0094e3",
   "metadata": {},
   "source": [
    "17. How do you distinguish between copy.copy() and copy.deepcopy()?"
   ]
  },
  {
   "cell_type": "markdown",
   "id": "f627d5ad",
   "metadata": {},
   "source": [
    "-->copy.copy() creates a shallow copy of the list which means any changes made in the copied list will reflect in the original list whereas copy.deepcopy() creates a deep copy of the given list where any changes made in the copied list won't chnage the content of the original list."
   ]
  },
  {
   "cell_type": "code",
   "execution_count": null,
   "id": "257f8a71",
   "metadata": {},
   "outputs": [],
   "source": []
  }
 ],
 "metadata": {
  "kernelspec": {
   "display_name": "Python 3 (ipykernel)",
   "language": "python",
   "name": "python3"
  },
  "language_info": {
   "codemirror_mode": {
    "name": "ipython",
    "version": 3
   },
   "file_extension": ".py",
   "mimetype": "text/x-python",
   "name": "python",
   "nbconvert_exporter": "python",
   "pygments_lexer": "ipython3",
   "version": "3.9.7"
  }
 },
 "nbformat": 4,
 "nbformat_minor": 5
}
