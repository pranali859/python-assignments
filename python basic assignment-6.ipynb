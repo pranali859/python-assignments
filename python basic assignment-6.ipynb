{
 "cells": [
  {
   "cell_type": "markdown",
   "id": "ca9fa727",
   "metadata": {},
   "source": [
    "1. What are escape characters, and how do you use them?"
   ]
  },
  {
   "cell_type": "markdown",
   "id": "9e5659f1",
   "metadata": {},
   "source": [
    "-->Escape characters are used in string values to reduce the effort of writing a difficult code. They are used by representing backslash followed by a character the user wishes to enter."
   ]
  },
  {
   "cell_type": "markdown",
   "id": "934bc727",
   "metadata": {},
   "source": [
    "2. What do the escape characters n and t stand for?"
   ]
  },
  {
   "cell_type": "markdown",
   "id": "218ad0d1",
   "metadata": {},
   "source": [
    "--> Escape character n stands for newline and t stands for tab space."
   ]
  },
  {
   "cell_type": "markdown",
   "id": "8f7e007c",
   "metadata": {},
   "source": [
    "3. What is the way to include backslash characters in a string?"
   ]
  },
  {
   "cell_type": "markdown",
   "id": "c7c052d1",
   "metadata": {},
   "source": [
    "-->A backslash character in a string is represented by \\\\."
   ]
  },
  {
   "cell_type": "markdown",
   "id": "5d57de2d",
   "metadata": {},
   "source": [
    "4. The string \"Howl's Moving Castle\" is a correct value. Why isn't the single quote character in the\n",
    "word Howl's not escaped a problem?"
   ]
  },
  {
   "cell_type": "markdown",
   "id": "fb82c1d3",
   "metadata": {},
   "source": [
    "--> It has not encountered any problem because the string is represented in double quotes."
   ]
  },
  {
   "cell_type": "markdown",
   "id": "196f4c72",
   "metadata": {},
   "source": [
    "5. How do you write a string of newlines if you don't want to use the n character?"
   ]
  },
  {
   "cell_type": "markdown",
   "id": "86d732c3",
   "metadata": {},
   "source": [
    "-->By using multiline strings."
   ]
  },
  {
   "cell_type": "markdown",
   "id": "55580ff2",
   "metadata": {},
   "source": [
    "6. What are the values of the given expressions?"
   ]
  },
  {
   "cell_type": "markdown",
   "id": "ee68be5b",
   "metadata": {},
   "source": [
    "'Hello, world!'[1] --> 'e'\n",
    "\n",
    "'Hello, world!'[0:5] --> 'Hello'\n",
    "\n",
    "'Hello, world!'[:5] --> 'Hello'\n",
    "\n",
    "'Hello, world!'[3:] --> 'lo, world!'"
   ]
  },
  {
   "cell_type": "markdown",
   "id": "5bc26433",
   "metadata": {},
   "source": [
    "7. What are the values of the following expressions?"
   ]
  },
  {
   "cell_type": "markdown",
   "id": "bd5ef8d7",
   "metadata": {},
   "source": [
    "'Hello'.upper() --> 'HELLO'\n",
    "\n",
    "'Hello'.upper().isupper() --> True\n",
    "\n",
    "'Hello'.upper().lower() --> 'hello'"
   ]
  },
  {
   "cell_type": "markdown",
   "id": "736e738f",
   "metadata": {},
   "source": [
    "8. What are the values of the following expressions?"
   ]
  },
  {
   "cell_type": "code",
   "execution_count": 7,
   "id": "b6235756",
   "metadata": {},
   "outputs": [
    {
     "data": {
      "text/plain": [
       "['Remember,', 'remember,', 'the', 'fifth', 'of', 'July.']"
      ]
     },
     "execution_count": 7,
     "metadata": {},
     "output_type": "execute_result"
    }
   ],
   "source": [
    "'Remember, remember, the fifth of July.'.split()"
   ]
  },
  {
   "cell_type": "code",
   "execution_count": 8,
   "id": "38169f3d",
   "metadata": {},
   "outputs": [
    {
     "data": {
      "text/plain": [
       "'There-can-only-one.'"
      ]
     },
     "execution_count": 8,
     "metadata": {},
     "output_type": "execute_result"
    }
   ],
   "source": [
    "'-'.join('There can only one.'.split())"
   ]
  },
  {
   "cell_type": "markdown",
   "id": "3751d3aa",
   "metadata": {},
   "source": [
    "9. What are the methods for right-justifying, left-justifying, and centering a string?"
   ]
  },
  {
   "cell_type": "markdown",
   "id": "8dd57533",
   "metadata": {},
   "source": [
    "--> The method used for right-justifying is rjust(), for left-justifying ljust(), and center() for centering."
   ]
  },
  {
   "cell_type": "markdown",
   "id": "6b7504e3",
   "metadata": {},
   "source": [
    "10. What is the best way to remove whitespace characters from the start or end?"
   ]
  },
  {
   "cell_type": "markdown",
   "id": "cc556e00",
   "metadata": {},
   "source": [
    "-->By using the lstrip() method to remove from start and rstrip() to remove from end."
   ]
  },
  {
   "cell_type": "code",
   "execution_count": null,
   "id": "a81e0464",
   "metadata": {},
   "outputs": [],
   "source": []
  }
 ],
 "metadata": {
  "kernelspec": {
   "display_name": "Python 3 (ipykernel)",
   "language": "python",
   "name": "python3"
  },
  "language_info": {
   "codemirror_mode": {
    "name": "ipython",
    "version": 3
   },
   "file_extension": ".py",
   "mimetype": "text/x-python",
   "name": "python",
   "nbconvert_exporter": "python",
   "pygments_lexer": "ipython3",
   "version": "3.9.7"
  }
 },
 "nbformat": 4,
 "nbformat_minor": 5
}
